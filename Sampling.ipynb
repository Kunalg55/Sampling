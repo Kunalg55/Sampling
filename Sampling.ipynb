{
  "nbformat": 4,
  "nbformat_minor": 0,
  "metadata": {
    "colab": {
      "provenance": []
    },
    "kernelspec": {
      "name": "python3",
      "display_name": "Python 3"
    },
    "language_info": {
      "name": "python"
    }
  },
  "cells": [
    {
      "cell_type": "code",
      "source": [
        "import pandas as pd\n",
        "import numpy as np\n",
        "from imblearn.over_sampling import SMOTE\n",
        "from sklearn.model_selection import train_test_split\n",
        "from sklearn.ensemble import RandomForestClassifier\n",
        "from sklearn.linear_model import LogisticRegression\n",
        "from sklearn.neighbors import KNeighborsClassifier\n",
        "from sklearn.naive_bayes import GaussianNB\n",
        "from sklearn.tree import DecisionTreeClassifier\n",
        "from sklearn.metrics import accuracy_score"
      ],
      "metadata": {
        "id": "iJnQi4Eij0cB"
      },
      "execution_count": 60,
      "outputs": []
    },
    {
      "cell_type": "code",
      "source": [
        "df = pd.read_csv('Creditcard_data.csv')\n",
        "\n",
        "X = df.drop('Class', axis=1)\n",
        "y = df['Class']\n",
        "\n",
        "X_train, X_test, y_train, y_test = train_test_split(X, y, test_size=0.2, random_state=42)\n",
        "\n",
        "smote = SMOTE(random_state=42)\n",
        "\n",
        "X_resampled, y_resampled = smote.fit_resample(X_train, y_train)\n",
        "\n",
        "df_resampled = pd.concat([pd.DataFrame(X_resampled, columns=X_train.columns), pd.Series(y_resampled, name='Class')], axis=1)\n",
        "\n",
        "print(\"Class distribution after SMOTE:\\n\", df_resampled['Class'].value_counts())\n",
        "\n",
        "df_resampled.to_csv('resampled_data.csv', index=False)\n"
      ],
      "metadata": {
        "colab": {
          "base_uri": "https://localhost:8080/"
        },
        "id": "vBfLQP1h2yPI",
        "outputId": "f59ccc6d-c0fe-4b3f-8162-92162d2f2b41"
      },
      "execution_count": 61,
      "outputs": [
        {
          "output_type": "stream",
          "name": "stdout",
          "text": [
            "Class distribution after SMOTE:\n",
            " 0    609\n",
            "1    609\n",
            "Name: Class, dtype: int64\n"
          ]
        }
      ]
    },
    {
      "cell_type": "code",
      "source": [
        "#1 Simple random sampling"
      ],
      "metadata": {
        "id": "IhFQro523yN0"
      },
      "execution_count": 62,
      "outputs": []
    },
    {
      "cell_type": "code",
      "source": [
        "df_resampled = pd.read_csv('resampled_data.csv')\n",
        "\n",
        "random_samples = df_resampled.sample(n=5, random_state=42)\n",
        "\n",
        "print(\"Randomly selected 5 samples:\")\n",
        "print(random_samples)\n",
        "\n"
      ],
      "metadata": {
        "colab": {
          "base_uri": "https://localhost:8080/"
        },
        "id": "SlBBJshbj-er",
        "outputId": "952303f2-99d6-4d11-8a6d-713c0bc40d30"
      },
      "execution_count": 63,
      "outputs": [
        {
          "output_type": "stream",
          "name": "stdout",
          "text": [
            "Randomly selected 5 samples:\n",
            "      Time        V1        V2        V3        V4        V5        V6  \\\n",
            "541    103 -1.409009  0.563493  3.350717 -0.436893 -1.123467  0.256345   \n",
            "259     15  1.492936 -1.029346  0.454795 -1.438026 -1.555434 -0.720961   \n",
            "43     457 -0.469790 -0.009723  1.759079 -0.086506 -0.508940  0.757607   \n",
            "1008   542 -1.401380  0.087852  1.088007 -0.505029  0.776751 -0.379084   \n",
            "584    351  1.205444  0.008467  0.953782  1.141093 -0.491215  0.297303   \n",
            "\n",
            "            V7        V8        V9  ...       V21       V22       V23  \\\n",
            "541  -0.253390 -0.795814  1.421954  ...  0.665585  0.170281 -0.231557   \n",
            "259  -1.080664 -0.053127 -1.978682  ... -0.177650 -0.175074  0.040002   \n",
            "43    0.256744  0.208422  0.414208  ... -0.030373  0.050121  0.248683   \n",
            "1008  0.249410  0.101138  0.022450  ... -0.191622 -0.262781 -0.218040   \n",
            "584  -0.503913  0.084948  0.796497  ... -0.103663 -0.046173 -0.123765   \n",
            "\n",
            "           V24       V25       V26       V27       V28      Amount  Class  \n",
            "541   1.067220  0.279906  0.988255 -0.105954 -0.073779   23.270000      0  \n",
            "259   0.295814  0.332931 -0.220385  0.022298  0.007602    5.000000      0  \n",
            "43   -0.373362 -0.725709  0.992874  0.106658  0.160211  121.480000      0  \n",
            "1008 -0.172136 -0.272450  0.223899 -0.308786 -0.336915    1.032636      1  \n",
            "584  -0.430029  0.559222 -0.360379  0.077359  0.032499   12.990000      0  \n",
            "\n",
            "[5 rows x 31 columns]\n"
          ]
        }
      ]
    },
    {
      "cell_type": "code",
      "source": [
        "X_samples = random_samples.drop('Class', axis=1)\n",
        "y_samples = random_samples['Class']\n",
        "\n",
        "X_train, X_test, y_train, y_test = train_test_split(X_samples, y_samples, test_size=0.2, random_state=42)\n",
        "\n",
        "models = {\n",
        "    'Logistic Regression': LogisticRegression(random_state=42),\n",
        "    'Random Forest': RandomForestClassifier(random_state=42),\n",
        "    'KNN': KNeighborsClassifier(n_neighbors=1),  # Set n_neighbors to a smaller value\n",
        "    'Naive Bayes': GaussianNB(),\n",
        "    'Decision Tree': DecisionTreeClassifier(random_state=42)\n",
        "}\n",
        "\n",
        "overall_accuracies = {}\n",
        "\n",
        "for model_name, model in models.items():\n",
        "    # Training the model\n",
        "    model.fit(X_train, y_train)\n",
        "\n",
        "    # Making predictions\n",
        "    y_pred = model.predict(X_test)\n",
        "\n",
        "    # Calculate accuracy\n",
        "    accuracy = accuracy_score(y_test, y_pred)\n",
        "\n",
        "    # Store accuracy for each model\n",
        "    overall_accuracies[model_name] = accuracy\n",
        "\n",
        "# Display overall accuracies for each model\n",
        "print(\"Overall accuracies:\")\n",
        "for model_name, accuracy in overall_accuracies.items():\n",
        "    print(f\"{model_name}: {accuracy:.2f}\")\n"
      ],
      "metadata": {
        "colab": {
          "base_uri": "https://localhost:8080/"
        },
        "id": "w2cM1eeesZcu",
        "outputId": "3522281a-62c2-4655-cc74-f48008b81aaf"
      },
      "execution_count": 64,
      "outputs": [
        {
          "output_type": "stream",
          "name": "stdout",
          "text": [
            "Overall accuracies:\n",
            "Logistic Regression: 1.00\n",
            "Random Forest: 1.00\n",
            "KNN: 1.00\n",
            "Naive Bayes: 1.00\n",
            "Decision Tree: 1.00\n"
          ]
        }
      ]
    },
    {
      "cell_type": "code",
      "source": [
        "#2 systematic sampling"
      ],
      "metadata": {
        "id": "egFiIRrOs5O4"
      },
      "execution_count": 65,
      "outputs": []
    },
    {
      "cell_type": "code",
      "source": [
        "df_resampled = pd.read_csv('resampled_data.csv')\n",
        "\n",
        "np.random.seed(42)\n",
        "\n",
        "sampling_interval = len(df_resampled) // 5\n",
        "\n",
        "start_index = np.random.randint(0, sampling_interval)\n",
        "systematic_samples = df_resampled.iloc[start_index::sampling_interval]\n",
        "\n",
        "print(\"Systematically selected 5 samples:\")\n",
        "print(systematic_samples)\n",
        "\n"
      ],
      "metadata": {
        "colab": {
          "base_uri": "https://localhost:8080/"
        },
        "id": "JgqKW8MetJrW",
        "outputId": "db123783-1aee-4bf9-b638-978a2cf07487"
      },
      "execution_count": 66,
      "outputs": [
        {
          "output_type": "stream",
          "name": "stdout",
          "text": [
            "Systematically selected 5 samples:\n",
            "      Time        V1        V2        V3        V4        V5        V6  \\\n",
            "102    344 -3.495984 -4.088420  2.024845 -0.740363  1.128135 -1.231702   \n",
            "345    266  0.982539 -0.229085  0.003051  1.444009  0.200645  0.636756   \n",
            "588    225 -0.608831  0.876837  2.495715  3.138674  0.161264 -0.107099   \n",
            "831    471 -1.548626 -2.100421  2.166640  1.078007  2.068653  0.363186   \n",
            "1074   261 -0.386075 -1.098853  1.303641  0.790142  1.247260  0.252076   \n",
            "\n",
            "            V7        V8        V9  ...       V21       V22       V23  \\\n",
            "102  -0.086554  0.157807  1.677621  ...  0.361562 -0.173006  1.280446   \n",
            "345   0.012166  0.128519 -0.361986  ... -0.315217 -1.347024 -0.033817   \n",
            "588   0.515854 -0.138226 -1.035070  ... -0.262866 -0.439237 -0.006775   \n",
            "831  -1.805190  0.650746  0.830583  ...  0.323880  0.913847  0.274270   \n",
            "1074 -1.082861  0.432697  0.344739  ...  0.094627  0.267859  0.198437   \n",
            "\n",
            "           V24       V25       V26       V27       V28      Amount  Class  \n",
            "102   0.012697  0.760879 -0.828147 -0.298700 -0.061615  456.710000      0  \n",
            "345  -1.359832 -0.005459  0.706075 -0.091822  0.024234  154.400000      0  \n",
            "588   0.717471  0.199742  0.072401  0.099756 -0.136524   35.110000      0  \n",
            "831  -0.690996 -0.158896  0.754635 -0.110564 -0.143024    1.665201      1  \n",
            "1074 -0.595514 -0.023863  0.489247 -0.066140 -0.077104    2.101814      1  \n",
            "\n",
            "[5 rows x 31 columns]\n"
          ]
        }
      ]
    },
    {
      "cell_type": "code",
      "source": [
        "X_samples = systematic_samples.drop('Class', axis=1)\n",
        "y_samples = systematic_samples['Class']\n",
        "\n",
        "X_train, X_test, y_train, y_test = train_test_split(X_samples, y_samples, test_size=0.2, random_state=42)\n",
        "\n",
        "models = {\n",
        "    'Logistic Regression': LogisticRegression(random_state=42),\n",
        "    'Random Forest': RandomForestClassifier(random_state=42),\n",
        "    'KNN': KNeighborsClassifier(n_neighbors=1),\n",
        "    'Naive Bayes': GaussianNB(),\n",
        "    'Decision Tree': DecisionTreeClassifier(random_state=42)\n",
        "}\n",
        "\n",
        "overall_accuracies = {}\n",
        "\n",
        "for model_name, model in models.items():\n",
        "    model.fit(X_train, y_train)\n",
        "\n",
        "    y_pred = model.predict(X_test)\n",
        "\n",
        "    accuracy = accuracy_score(y_test, y_pred)\n",
        "\n",
        "    overall_accuracies[model_name] = accuracy\n",
        "\n",
        "print(\"Overall accuracies:\")\n",
        "for model_name, accuracy in overall_accuracies.items():\n",
        "    print(f\"{model_name}: {accuracy:.2f}\")\n"
      ],
      "metadata": {
        "colab": {
          "base_uri": "https://localhost:8080/"
        },
        "id": "AvnIdsD3t5o2",
        "outputId": "2dfa9086-b725-4d22-b893-14415d904578"
      },
      "execution_count": 67,
      "outputs": [
        {
          "output_type": "stream",
          "name": "stdout",
          "text": [
            "Overall accuracies:\n",
            "Logistic Regression: 1.00\n",
            "Random Forest: 0.00\n",
            "KNN: 1.00\n",
            "Naive Bayes: 1.00\n",
            "Decision Tree: 1.00\n"
          ]
        }
      ]
    },
    {
      "cell_type": "code",
      "source": [
        "#3 Cluster sampling"
      ],
      "metadata": {
        "id": "kwJb2ip54OWL"
      },
      "execution_count": 68,
      "outputs": []
    },
    {
      "cell_type": "code",
      "source": [
        "df_resampled = pd.read_csv('resampled_data.csv')\n",
        "\n",
        "np.random.seed(42)\n",
        "\n",
        "unique_clusters = df_resampled['Class'].unique()\n",
        "\n",
        "num_clusters = len(unique_clusters)\n",
        "\n",
        "selected_clusters = np.random.choice(unique_clusters, num_clusters, replace=False)\n",
        "\n",
        "cluster_samples = pd.DataFrame()\n",
        "\n",
        "for cluster in selected_clusters:\n",
        "    cluster_data = df_resampled[df_resampled['Class'] == cluster]\n",
        "    cluster_samples = pd.concat([cluster_samples, cluster_data.sample(frac=0.2, random_state=42)])\n",
        "\n",
        "print(\"Cluster-sampled 5 samples:\")\n",
        "print(cluster_samples)\n",
        "\n"
      ],
      "metadata": {
        "colab": {
          "base_uri": "https://localhost:8080/"
        },
        "id": "nNzMLwyGvXqw",
        "outputId": "bc72ba26-6cc1-42a2-a7fc-206b3361335e"
      },
      "execution_count": 69,
      "outputs": [
        {
          "output_type": "stream",
          "name": "stdout",
          "text": [
            "Cluster-sampled 5 samples:\n",
            "      Time        V1        V2        V3        V4        V5        V6  \\\n",
            "900    222  1.255554  0.353584  0.303499  0.692550 -0.368350 -1.069623   \n",
            "974    476 -2.133580 -0.597351  0.727131  2.359753  1.188388 -0.268196   \n",
            "1076   559  0.903852  0.370155  0.539111  0.608402 -0.143416 -1.040530   \n",
            "1176   476 -2.952155 -2.932508  1.095367  2.082385  1.329049 -1.010687   \n",
            "727    504 -1.427409 -0.949035  2.079148  0.628407  1.662714 -0.204843   \n",
            "...    ...       ...       ...       ...       ...       ...       ...   \n",
            "381    290  1.355157 -1.318940  0.166357 -1.574822 -1.279267 -0.182794   \n",
            "255     88  1.287226 -0.824683  1.346423 -0.525628 -1.833007 -0.477715   \n",
            "215    221 -1.177731  0.318501  1.727123 -0.549578  0.737292 -0.050963   \n",
            "537    333 -2.977214  0.781748  2.881724 -1.627798 -1.368067  1.656876   \n",
            "204    394 -0.553092  1.667591 -0.047357  0.514249  0.589388 -0.635411   \n",
            "\n",
            "            V7        V8        V9  ...       V21       V22       V23  \\\n",
            "900   0.088490 -0.204538  0.030432  ... -0.287424 -0.829939  0.127987   \n",
            "974  -2.292509  1.045833 -0.632643  ...  0.462903  0.670254 -0.027824   \n",
            "1076  0.221316 -0.201605 -0.010893  ... -0.229674 -0.642246  0.065232   \n",
            "1176  0.321618 -0.053198 -0.250335  ...  0.602784  0.391533  1.261268   \n",
            "727  -0.512685  0.283351  0.370448  ...  0.232145  0.706922  0.000802   \n",
            "...        ...       ...       ...  ...       ...       ...       ...   \n",
            "381  -0.985599 -0.012855 -1.980932  ... -0.409000 -1.090939  0.026299   \n",
            "255  -1.224213  0.014774 -0.257813  ... -0.147633  0.057765  0.052105   \n",
            "215   0.555482 -0.041756  0.219520  ... -0.279324 -0.640571 -0.554584   \n",
            "537  -1.185053 -5.393736  1.719407  ...  3.656428 -1.929181  0.190843   \n",
            "204   1.126611 -0.311882  0.035247  ... -0.033537  0.687658 -0.076693   \n",
            "\n",
            "           V24       V25       V26       V27       V28      Amount  Class  \n",
            "900   0.340271  0.217125  0.094632 -0.023088  0.030904    2.370635      1  \n",
            "974  -0.354645 -0.106717  0.569446  0.040019 -0.159202    0.859817      1  \n",
            "1076  0.349969  0.248641  0.005634 -0.035506  0.005574    1.243051      1  \n",
            "1176 -0.289859  0.236741 -0.118352 -0.259241  0.006399  492.024315      1  \n",
            "727  -0.193090  0.106911  0.158320 -0.113841 -0.146854    1.232788      1  \n",
            "...        ...       ...       ...       ...       ...         ...    ...  \n",
            "381  -0.573381  0.152090 -0.453984  0.011317  0.023964  101.000000      0  \n",
            "255   0.428755 -0.036979  1.112152 -0.003678  0.031920   30.900000      0  \n",
            "215  -0.510508  0.403270  0.178327 -0.354579 -0.233332   25.360000      0  \n",
            "537   0.533134  0.296773  0.890104 -0.123225 -0.543750   75.000000      0  \n",
            "204   0.014810 -0.590713 -0.482998  0.137717 -0.334915    1.550000      0  \n",
            "\n",
            "[244 rows x 31 columns]\n"
          ]
        }
      ]
    },
    {
      "cell_type": "code",
      "source": [
        "X_samples = cluster_samples.drop('Class', axis=1)\n",
        "y_samples = cluster_samples['Class']\n",
        "\n",
        "X_train, X_test, y_train, y_test = train_test_split(X_samples, y_samples, test_size=0.2, random_state=42)\n",
        "\n",
        "models = {\n",
        "    'Logistic Regression': LogisticRegression(random_state=42),\n",
        "    'Random Forest': RandomForestClassifier(random_state=42),\n",
        "    'KNN': KNeighborsClassifier(),\n",
        "    'Naive Bayes': GaussianNB(),\n",
        "    'Decision Tree': DecisionTreeClassifier(random_state=42)\n",
        "}\n",
        "\n",
        "overall_accuracies = {}\n",
        "\n",
        "for model_name, model in models.items():\n",
        "    model.fit(X_train, y_train)\n",
        "\n",
        "    y_pred = model.predict(X_test)\n",
        "\n",
        "    accuracy = accuracy_score(y_test, y_pred)\n",
        "\n",
        "    overall_accuracies[model_name] = accuracy\n",
        "\n",
        "print(\"Overall accuracies:\")\n",
        "for model_name, accuracy in overall_accuracies.items():\n",
        "    print(f\"{model_name}: {accuracy:.2f}\")\n"
      ],
      "metadata": {
        "colab": {
          "base_uri": "https://localhost:8080/"
        },
        "id": "6YTbcM3svnZr",
        "outputId": "c6ebaf39-fbe1-4bac-c357-4edc575361f5"
      },
      "execution_count": 70,
      "outputs": [
        {
          "output_type": "stream",
          "name": "stderr",
          "text": [
            "/usr/local/lib/python3.10/dist-packages/sklearn/linear_model/_logistic.py:458: ConvergenceWarning: lbfgs failed to converge (status=1):\n",
            "STOP: TOTAL NO. of ITERATIONS REACHED LIMIT.\n",
            "\n",
            "Increase the number of iterations (max_iter) or scale the data as shown in:\n",
            "    https://scikit-learn.org/stable/modules/preprocessing.html\n",
            "Please also refer to the documentation for alternative solver options:\n",
            "    https://scikit-learn.org/stable/modules/linear_model.html#logistic-regression\n",
            "  n_iter_i = _check_optimize_result(\n"
          ]
        },
        {
          "output_type": "stream",
          "name": "stdout",
          "text": [
            "Overall accuracies:\n",
            "Logistic Regression: 0.90\n",
            "Random Forest: 0.96\n",
            "KNN: 0.78\n",
            "Naive Bayes: 0.94\n",
            "Decision Tree: 0.94\n"
          ]
        }
      ]
    },
    {
      "cell_type": "code",
      "source": [
        "#4 Stratified Sampling"
      ],
      "metadata": {
        "id": "IK9-6rBiv9hT"
      },
      "execution_count": 71,
      "outputs": []
    },
    {
      "cell_type": "code",
      "source": [
        "df_resampled = pd.read_csv('resampled_data.csv')\n",
        "\n",
        "seed = 42\n",
        "\n",
        "unique_strata = df_resampled['Class'].unique()\n",
        "\n",
        "stratified_samples = pd.DataFrame()\n",
        "\n",
        "for stratum in unique_strata:\n",
        "    stratum_data = df_resampled[df_resampled['Class'] == stratum]\n",
        "\n",
        "    stratum_train, stratum_test = train_test_split(stratum_data, test_size=0.2, random_state=seed)\n",
        "\n",
        "    stratified_samples = pd.concat([stratified_samples, stratum_test])\n",
        "\n",
        "print(\"Stratified-sampled 5 samples:\")\n",
        "print(stratified_samples)\n"
      ],
      "metadata": {
        "colab": {
          "base_uri": "https://localhost:8080/"
        },
        "id": "MfcvBEwUwLTV",
        "outputId": "9ec2758d-f913-4393-cade-9e434ab61974"
      },
      "execution_count": 72,
      "outputs": [
        {
          "output_type": "stream",
          "name": "stdout",
          "text": [
            "Stratified-sampled 5 samples:\n",
            "      Time        V1        V2        V3        V4        V5        V6  \\\n",
            "297     13 -0.436905  0.918966  0.924591 -0.727219  0.915679 -0.127867   \n",
            "371    446 -1.146103  1.350274  0.907209 -0.040682 -0.242920 -1.099859   \n",
            "473    164  1.212057  0.246405  0.309166  0.584744 -0.381581 -0.764968   \n",
            "574    164 -0.433211  1.020835  2.019730  3.003261  0.031308  0.187063   \n",
            "122     60  1.107029  0.216441  0.538378  1.476398 -0.251942 -0.340680   \n",
            "...    ...       ...       ...       ...       ...       ...       ...   \n",
            "984    334 -0.462834 -1.151278  1.444666  0.928941  1.123609 -0.191977   \n",
            "858    460 -2.076061  1.170082 -0.458382  2.081655  0.071808 -0.959373   \n",
            "818     27  1.206500  0.285689  0.198064  0.505039 -0.040183 -0.311770   \n",
            "1140   520 -1.008141 -1.490639  0.718630  1.532451  0.547021 -1.066081   \n",
            "808    467 -2.045503  1.068909 -0.309391  1.833707  0.148666 -0.898925   \n",
            "\n",
            "            V7        V8        V9  ...       V21       V22       V23  \\\n",
            "297   0.707642  0.087962 -0.665271  ... -0.194796 -0.672638 -0.156858   \n",
            "371   0.579042  0.045619  0.460784  ... -0.396947 -0.895759  0.099686   \n",
            "473  -0.067783 -0.012991 -0.110617  ... -0.244625 -0.781194  0.125372   \n",
            "574   0.850856 -0.143932 -0.918043  ... -0.177298 -0.180260  0.007760   \n",
            "122   0.154092 -0.086503  0.144420  ... -0.060037  0.059884 -0.047526   \n",
            "...        ...       ...       ...  ...       ...       ...       ...   \n",
            "984  -1.072442  0.320160  0.522519  ...  0.087061  0.237428  0.217653   \n",
            "858  -1.381982  0.876618 -1.620002  ...  0.230374 -0.099680 -0.381501   \n",
            "818  -0.040351  0.018237 -0.187947  ... -0.240130 -0.683725  0.107510   \n",
            "1140  0.216120 -0.135229 -0.135895  ...  0.212831 -0.158939  0.785256   \n",
            "808  -1.232482  0.809976 -1.471190  ...  0.193256 -0.108042 -0.370669   \n",
            "\n",
            "           V24       V25       V26       V27       V28      Amount  Class  \n",
            "297  -0.888386 -0.342413 -0.049027  0.079692  0.131024    0.890000      0  \n",
            "371   0.275643 -0.045217  0.095849  0.563119  0.307945   17.990000      0  \n",
            "473   0.268166  0.160143  0.079645 -0.032016  0.019052    2.280000      0  \n",
            "574   0.382658 -0.187193  0.100067  0.204039 -0.018150   65.260000      0  \n",
            "122   0.443992  0.640296 -0.337657  0.042108  0.024265   26.720000      0  \n",
            "...        ...       ...       ...       ...       ...         ...    ...  \n",
            "984  -0.291920 -0.013723  0.499048 -0.076788 -0.075668    2.062099      1  \n",
            "858   0.090607 -0.111743  0.203564  0.011546 -0.242201    0.411693      1  \n",
            "818  -0.182105  0.178497  0.118651 -0.012320  0.018479    2.690000      1  \n",
            "1140  0.007599  0.252031 -0.031908 -0.143658  0.033483  279.282289      1  \n",
            "808   0.060900 -0.131962  0.206892 -0.020750 -0.255001    0.464963      1  \n",
            "\n",
            "[244 rows x 31 columns]\n"
          ]
        }
      ]
    },
    {
      "cell_type": "code",
      "source": [
        "X_samples = stratified_samples.drop('Class', axis=1)\n",
        "y_samples = stratified_samples['Class']\n",
        "\n",
        "X_train, X_test, y_train, y_test = train_test_split(X_samples, y_samples, test_size=0.2, random_state=seed)\n",
        "\n",
        "models = {\n",
        "    'Logistic Regression': LogisticRegression(random_state=seed),\n",
        "    'Random Forest': RandomForestClassifier(random_state=seed),\n",
        "    'KNN': KNeighborsClassifier(),\n",
        "    'Naive Bayes': GaussianNB(),\n",
        "    'Decision Tree': DecisionTreeClassifier(random_state=seed)\n",
        "}\n",
        "\n",
        "overall_accuracies = {}\n",
        "\n",
        "for model_name, model in models.items():\n",
        "    model.fit(X_train, y_train)\n",
        "\n",
        "    y_pred = model.predict(X_test)\n",
        "\n",
        "    accuracy = accuracy_score(y_test, y_pred)\n",
        "\n",
        "    overall_accuracies[model_name] = accuracy\n",
        "\n",
        "print(\"Overall accuracies:\")\n",
        "for model_name, accuracy in overall_accuracies.items():\n",
        "    print(f\"{model_name}: {accuracy:.2f}\")\n"
      ],
      "metadata": {
        "colab": {
          "base_uri": "https://localhost:8080/"
        },
        "id": "6vuepFnLwTaf",
        "outputId": "a099de39-e8fc-44c8-a6e0-a3b7cccc99a3"
      },
      "execution_count": 73,
      "outputs": [
        {
          "output_type": "stream",
          "name": "stderr",
          "text": [
            "/usr/local/lib/python3.10/dist-packages/sklearn/linear_model/_logistic.py:458: ConvergenceWarning: lbfgs failed to converge (status=1):\n",
            "STOP: TOTAL NO. of ITERATIONS REACHED LIMIT.\n",
            "\n",
            "Increase the number of iterations (max_iter) or scale the data as shown in:\n",
            "    https://scikit-learn.org/stable/modules/preprocessing.html\n",
            "Please also refer to the documentation for alternative solver options:\n",
            "    https://scikit-learn.org/stable/modules/linear_model.html#logistic-regression\n",
            "  n_iter_i = _check_optimize_result(\n"
          ]
        },
        {
          "output_type": "stream",
          "name": "stdout",
          "text": [
            "Overall accuracies:\n",
            "Logistic Regression: 0.96\n",
            "Random Forest: 1.00\n",
            "KNN: 0.86\n",
            "Naive Bayes: 0.84\n",
            "Decision Tree: 0.98\n"
          ]
        }
      ]
    },
    {
      "cell_type": "code",
      "source": [
        "#5 Bootstrap Sampling"
      ],
      "metadata": {
        "id": "1bBbOZaNw8q9"
      },
      "execution_count": 74,
      "outputs": []
    },
    {
      "cell_type": "code",
      "source": [
        "df_resampled = pd.read_csv('resampled_data.csv')\n",
        "\n",
        "np.random.seed(42)\n",
        "\n",
        "bootstrap_samples = pd.DataFrame()\n",
        "\n",
        "for _ in range(5):\n",
        "    bootstrap_sample = df_resampled.sample(frac=1, replace=True, random_state=42)\n",
        "    bootstrap_samples = pd.concat([bootstrap_samples, bootstrap_sample])\n",
        "\n",
        "print(\"Bootstrap-sampled 5 samples:\")\n",
        "print(bootstrap_samples)\n"
      ],
      "metadata": {
        "colab": {
          "base_uri": "https://localhost:8080/"
        },
        "id": "9ToVTaYPxMWV",
        "outputId": "a37c69e2-3606-480f-8ae5-4d8b74a58ad6"
      },
      "execution_count": 75,
      "outputs": [
        {
          "output_type": "stream",
          "name": "stdout",
          "text": [
            "Bootstrap-sampled 5 samples:\n",
            "      Time        V1        V2        V3        V4        V5        V6  \\\n",
            "1126   503 -1.220717  0.273467  1.541082 -0.120366  0.949864 -0.681046   \n",
            "860    478 -1.997840  0.911104 -0.077002  1.446969  0.268547 -0.804640   \n",
            "1130   570  1.188379  0.395569  0.269693  0.754876 -0.360985 -1.074455   \n",
            "1095   196 -0.503261  1.081685 -0.692829  2.165364 -0.221627 -0.732617   \n",
            "1044   485 -0.896104  0.397705  1.720145  0.190106  0.947011 -0.903440   \n",
            "...    ...       ...       ...       ...       ...       ...       ...   \n",
            "882    529 -1.999963 -2.489605  2.464195  1.135908  2.458454  0.592218   \n",
            "687     46  1.216570  0.299125  0.219783  0.544157 -0.109088 -0.469529   \n",
            "826    343 -0.531053 -1.210912  1.490028  0.938306  1.182986 -0.157096   \n",
            "726    295 -0.416120  0.149049  0.726486 -0.158070  0.532245 -0.197277   \n",
            "593    282 -0.426030  1.041184  1.063793 -0.407921  0.077615 -0.810862   \n",
            "\n",
            "            V7        V8        V9  ...       V21       V22       V23  \\\n",
            "1126  0.658799 -0.049278 -0.082334  ... -0.022429  0.110451 -0.259379   \n",
            "860  -0.999297  0.706031 -1.239079  ...  0.135362 -0.121086 -0.353775   \n",
            "1130  0.043157 -0.179185 -0.039630  ... -0.271238 -0.805399  0.116148   \n",
            "1095 -1.268155  0.717154 -1.471906  ...  0.133658 -0.346667 -0.172759   \n",
            "1044  0.867533 -0.157376 -0.139826  ...  0.061185  0.265252 -0.252323   \n",
            "...        ...       ...       ...  ...       ...       ...       ...   \n",
            "882  -2.104693  0.786852  0.956651  ...  0.421063  1.192192  0.296545   \n",
            "687  -0.013909 -0.027744 -0.141544  ... -0.250002 -0.714707  0.111789   \n",
            "826  -1.118480  0.340930  0.541874  ...  0.101940  0.279927  0.221210   \n",
            "726   0.112087  0.115572 -0.102394  ... -0.200408 -0.393596 -0.097988   \n",
            "593   0.620734 -1.048589 -0.416712  ...  0.758834 -0.107204 -0.139569   \n",
            "\n",
            "           V24       V25       V26       V27       V28    Amount  Class  \n",
            "1126  0.160500  0.128938 -0.203221 -0.191346 -0.218843  1.000000      1  \n",
            "860   0.014564 -0.163499  0.212084 -0.071124 -0.274966  0.548051      1  \n",
            "1130  0.342682  0.217690  0.096012 -0.016686  0.027560  1.264944      1  \n",
            "1095 -0.020547  0.107837  0.151023  0.121693 -0.061709  1.388699      1  \n",
            "1044  0.384766  0.388630 -0.445831 -0.103244 -0.123472  1.004243      1  \n",
            "...        ...       ...       ...       ...       ...       ...    ...  \n",
            "882  -0.855675 -0.219589  0.859587 -0.125131 -0.171551  1.498846      1  \n",
            "687  -0.073631  0.186285  0.113670 -0.014615  0.021060  2.690000      1  \n",
            "826  -0.316994 -0.022844  0.515107 -0.078910 -0.079900  2.037162      1  \n",
            "726  -0.283675 -0.108400  0.188683 -0.193432 -0.203822  1.762671      1  \n",
            "593   0.500355  0.165607  1.052250 -0.024388  0.008398  2.000000      0  \n",
            "\n",
            "[6090 rows x 31 columns]\n"
          ]
        }
      ]
    },
    {
      "cell_type": "code",
      "source": [
        "X_samples = bootstrap_samples.drop('Class', axis=1)\n",
        "y_samples = bootstrap_samples['Class']\n",
        "\n",
        "X_train, X_test, y_train, y_test = train_test_split(X_samples, y_samples, test_size=0.2, random_state=seed)\n",
        "\n",
        "models = {\n",
        "    'Logistic Regression': LogisticRegression(random_state=seed),\n",
        "    'Random Forest': RandomForestClassifier(random_state=seed),\n",
        "    'KNN': KNeighborsClassifier(),\n",
        "    'Naive Bayes': GaussianNB(),\n",
        "    'Decision Tree': DecisionTreeClassifier(random_state=seed)\n",
        "}\n",
        "\n",
        "overall_accuracies = {}\n",
        "\n",
        "for model_name, model in models.items():\n",
        "    model.fit(X_train, y_train)\n",
        "\n",
        "    y_pred = model.predict(X_test)\n",
        "\n",
        "    accuracy = accuracy_score(y_test, y_pred)\n",
        "\n",
        "    overall_accuracies[model_name] = accuracy\n",
        "\n",
        "print(\"Overall accuracies:\")\n",
        "for model_name, accuracy in overall_accuracies.items():\n",
        "    print(f\"{model_name}: {accuracy:.2f}\")\n"
      ],
      "metadata": {
        "colab": {
          "base_uri": "https://localhost:8080/"
        },
        "id": "qxAA-x7CxUyw",
        "outputId": "869c4468-9b29-427a-9437-9e65a16fd30e"
      },
      "execution_count": 76,
      "outputs": [
        {
          "output_type": "stream",
          "name": "stderr",
          "text": [
            "/usr/local/lib/python3.10/dist-packages/sklearn/linear_model/_logistic.py:458: ConvergenceWarning: lbfgs failed to converge (status=1):\n",
            "STOP: TOTAL NO. of ITERATIONS REACHED LIMIT.\n",
            "\n",
            "Increase the number of iterations (max_iter) or scale the data as shown in:\n",
            "    https://scikit-learn.org/stable/modules/preprocessing.html\n",
            "Please also refer to the documentation for alternative solver options:\n",
            "    https://scikit-learn.org/stable/modules/linear_model.html#logistic-regression\n",
            "  n_iter_i = _check_optimize_result(\n"
          ]
        },
        {
          "output_type": "stream",
          "name": "stdout",
          "text": [
            "Overall accuracies:\n",
            "Logistic Regression: 0.94\n",
            "Random Forest: 1.00\n",
            "KNN: 0.99\n",
            "Naive Bayes: 0.93\n",
            "Decision Tree: 1.00\n"
          ]
        }
      ]
    },
    {
      "cell_type": "code",
      "source": [
        "accuracy_data = {\n",
        "    'Logistic Regression': {\n",
        "        'Simple Random Sampling': 1.00,\n",
        "        'Systematic Sampling': 1.00,\n",
        "        'Cluster Sampling': 0.90,\n",
        "        'Stratified Sampling': 0.96,\n",
        "        'Bootstrap Sampling': 0.94\n",
        "    },\n",
        "    'Random Forest': {\n",
        "        'Simple Random Sampling': 1.00,\n",
        "        'Systematic Sampling': 0.00,\n",
        "        'Cluster Sampling': 0.96,\n",
        "        'Stratified Sampling': 1.00,\n",
        "        'Bootstrap Sampling': 1.00\n",
        "    },\n",
        "    'KNN': {\n",
        "        'Simple Random Sampling': 1.00,\n",
        "        'Systematic Sampling': 1.00,\n",
        "        'Cluster Sampling': 0.78,\n",
        "        'Stratified Sampling': 0.86,\n",
        "        'Bootstrap Sampling': 0.99\n",
        "    },\n",
        "    'Naive Bayes': {\n",
        "        'Simple Random Sampling': 1.00,\n",
        "        'Systematic Sampling': 1.00,\n",
        "        'Cluster Sampling': 0.94,\n",
        "        'Stratified Sampling': 0.84,\n",
        "        'Bootstrap Sampling': 0.93\n",
        "    },\n",
        "    'Decision Tree': {\n",
        "        'Simple Random Sampling': 1.00,\n",
        "        'Systematic Sampling': 1.00,\n",
        "        'Cluster Sampling': 0.94,\n",
        "        'Stratified Sampling': 0.98,\n",
        "        'Bootstrap Sampling': 1.00\n",
        "    }\n",
        "}\n",
        "\n",
        "accuracy_table = pd.DataFrame(accuracy_data)\n",
        "\n",
        "print(\"Accuracy Table:\")\n",
        "print(accuracy_table)\n"
      ],
      "metadata": {
        "colab": {
          "base_uri": "https://localhost:8080/"
        },
        "id": "2RiePp6Z1_fk",
        "outputId": "45e9a740-bf7c-4e38-a744-ea80273388de"
      },
      "execution_count": 77,
      "outputs": [
        {
          "output_type": "stream",
          "name": "stdout",
          "text": [
            "Accuracy Table:\n",
            "                        Logistic Regression  Random Forest   KNN  Naive Bayes  \\\n",
            "Simple Random Sampling                 1.00           1.00  1.00         1.00   \n",
            "Systematic Sampling                    1.00           0.00  1.00         1.00   \n",
            "Cluster Sampling                       0.90           0.96  0.78         0.94   \n",
            "Stratified Sampling                    0.96           1.00  0.86         0.84   \n",
            "Bootstrap Sampling                     0.94           1.00  0.99         0.93   \n",
            "\n",
            "                        Decision Tree  \n",
            "Simple Random Sampling           1.00  \n",
            "Systematic Sampling              1.00  \n",
            "Cluster Sampling                 0.94  \n",
            "Stratified Sampling              0.98  \n",
            "Bootstrap Sampling               1.00  \n"
          ]
        }
      ]
    },
    {
      "cell_type": "code",
      "source": [
        "accuracy_table.to_csv('accuracy_table.csv')\n",
        "print(\"Accuracy table has been saved to 'accuracy_table.csv'\")\n"
      ],
      "metadata": {
        "id": "4fhD_uxR2Mvj"
      },
      "execution_count": 78,
      "outputs": []
    },
    {
      "cell_type": "code",
      "source": [],
      "metadata": {
        "id": "9bTAYIyQ2Xsu"
      },
      "execution_count": 78,
      "outputs": []
    }
  ]
}